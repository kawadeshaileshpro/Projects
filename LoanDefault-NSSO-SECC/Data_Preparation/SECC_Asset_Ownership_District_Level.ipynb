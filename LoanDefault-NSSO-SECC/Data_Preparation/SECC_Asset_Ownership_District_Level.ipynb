{
 "cells": [
  {
   "cell_type": "code",
   "execution_count": 27,
   "id": "f69f1106-0423-48b4-bbb9-7921497501b4",
   "metadata": {},
   "outputs": [
    {
     "name": "stderr",
     "output_type": "stream",
     "text": [
      "ERROR: Could not find a version that satisfies the requirement json (from versions: none)\n",
      "\n",
      "[notice] A new release of pip is available: 25.1.1 -> 25.2\n",
      "[notice] To update, run: python.exe -m pip install --upgrade pip\n",
      "ERROR: No matching distribution found for json\n"
     ]
    }
   ],
   "source": [
    "!pip install json"
   ]
  },
  {
   "cell_type": "code",
   "execution_count": 3,
   "id": "50374f44-c211-48cd-b017-3970d3435ea2",
   "metadata": {},
   "outputs": [
    {
     "name": "stdout",
     "output_type": "stream",
     "text": [
      "Collecting lxml\n",
      "  Downloading lxml-6.0.0-cp313-cp313-win_amd64.whl.metadata (6.8 kB)\n",
      "Downloading lxml-6.0.0-cp313-cp313-win_amd64.whl (4.0 MB)\n",
      "   ---------------------------------------- 0.0/4.0 MB ? eta -:--:--\n",
      "   ----------------------- ---------------- 2.4/4.0 MB 15.4 MB/s eta 0:00:01\n",
      "   ---------------------------------------- 4.0/4.0 MB 13.5 MB/s eta 0:00:00\n",
      "Installing collected packages: lxml\n",
      "Successfully installed lxml-6.0.0\n"
     ]
    },
    {
     "name": "stderr",
     "output_type": "stream",
     "text": [
      "\n",
      "[notice] A new release of pip is available: 25.1.1 -> 25.2\n",
      "[notice] To update, run: python.exe -m pip install --upgrade pip\n"
     ]
    }
   ],
   "source": [
    "!pip install lxml"
   ]
  },
  {
   "cell_type": "code",
   "execution_count": 29,
   "id": "6377d28e-f2ea-4459-a08a-9578b410709b",
   "metadata": {},
   "outputs": [
    {
     "name": "stdout",
     "output_type": "stream",
     "text": [
      "['01', '02', '03', '04', '05', '06', '07', '08', '09', '10', '11', '12', '13', '14', '15', '16', '17', '18', '19', '20', '21', '22', '23', '24', '25', '26', '27', '28', '29', '30', '31', '32', '33', '34', '35', '36']\n"
     ]
    }
   ],
   "source": [
    "import requests\n",
    "from bs4 import BeautifulSoup\n",
    "import pandas as pd\n",
    "import time\n",
    "import json\n",
    "\n",
    "# Base SECC URL for Education profile Data \n",
    "BASE_URL = \"https://secc.gov.in/getAssetsOwnershipRuralStateReport.htm/\"\n",
    "\n",
    "# List of state codes (01 to 35); adjust based on availability\n",
    "state_codes = [f\"{i:02d}\" for i in range(1, 37)]  # 01 to 36\n",
    "\n",
    "print (state_codes)\n",
    "\n"
   ]
  },
  {
   "cell_type": "code",
   "execution_count": 32,
   "id": "e7a23fc5-6b6a-4997-b7b2-d194426a3c39",
   "metadata": {},
   "outputs": [
    {
     "name": "stdout",
     "output_type": "stream",
     "text": [
      "⏳ Fetching State Code: 01 ...\n",
      "⏳ Fetching State Code: 02 ...\n",
      "⏳ Fetching State Code: 03 ...\n",
      "⏳ Fetching State Code: 04 ...\n",
      "⏳ Fetching State Code: 05 ...\n",
      "⏳ Fetching State Code: 06 ...\n",
      "⏳ Fetching State Code: 07 ...\n",
      "⏳ Fetching State Code: 08 ...\n",
      "⏳ Fetching State Code: 09 ...\n",
      "⏳ Fetching State Code: 10 ...\n",
      "⏳ Fetching State Code: 11 ...\n",
      "⏳ Fetching State Code: 12 ...\n",
      "⏳ Fetching State Code: 13 ...\n",
      "⏳ Fetching State Code: 14 ...\n",
      "⏳ Fetching State Code: 15 ...\n",
      "⏳ Fetching State Code: 16 ...\n",
      "⏳ Fetching State Code: 17 ...\n",
      "⏳ Fetching State Code: 18 ...\n",
      "⏳ Fetching State Code: 19 ...\n",
      "⏳ Fetching State Code: 20 ...\n",
      "⏳ Fetching State Code: 21 ...\n",
      "⏳ Fetching State Code: 22 ...\n",
      "⏳ Fetching State Code: 23 ...\n",
      "⏳ Fetching State Code: 24 ...\n",
      "⏳ Fetching State Code: 25 ...\n",
      "⏳ Fetching State Code: 26 ...\n",
      "⏳ Fetching State Code: 27 ...\n",
      "⏳ Fetching State Code: 28 ...\n",
      "⏳ Fetching State Code: 29 ...\n",
      "⏳ Fetching State Code: 30 ...\n",
      "⏳ Fetching State Code: 31 ...\n",
      "⏳ Fetching State Code: 32 ...\n",
      "⏳ Fetching State Code: 33 ...\n",
      "⏳ Fetching State Code: 34 ...\n",
      "⏳ Fetching State Code: 35 ...\n",
      "⏳ Fetching State Code: 36 ...\n",
      "✅ All SECC district data saved to 'SECC_Asset_Ownership_District_Level.csv'\n"
     ]
    }
   ],
   "source": [
    "# To store all districts data\n",
    "all_data = []\n",
    "\n",
    "for state_code in state_codes:\n",
    "    url = BASE_URL + state_code\n",
    "    print(f\"⏳ Fetching State Code: {state_code} ...\")\n",
    "    \n",
    "    try:\n",
    "        response = requests.get(url, timeout=15)\n",
    "        #print (response.content)\n",
    "        response.raise_for_status()\n",
    "        soup = BeautifulSoup(response.content, \"html.parser\")\n",
    "        #print (soap)\n",
    "        # Extract table rows\n",
    "        table = soup.find(\"table\")\n",
    "        if not table:\n",
    "            print(f\"⚠️ No data table found for State Code {state_code}. Skipping.\")\n",
    "            continue\n",
    "\n",
    "        #headers = [th.get_text(strip=True) for th in table.find_all(\"th\")]\n",
    "        headers = \"['District Name', 'Total Households', 'Refrigerator', '% Refrigerator', 'Telephone/Mobile phone - 1 = Landline only', 'Telephone/Mobile phone - % 1 = Landline only', 'Telephone/Mobile phone - 2 = Mobile only', 'Telephone/Mobile phone - % 2 = Mobile only', 'Telephone/Mobile phone - 3 = Both (Landline and Mobile)', 'Telephone/Mobile phone - % 3 = Both (Landline and Mobile)', 'Telephone/Mobile phone - 4 = NO', 'Telephone/Mobile phone - % 4 = NO', 'Motorized Two/Three/Four Wheelers or Motorized Fishing Boat requiring registration', '% Motorized Two/Three/Four Wheelers or Motorized Fishing Boat requiring registration']\"\n",
    "        # Convert single quotes to double quotes to make it valid JSON\n",
    "        headers_str_json = headers.replace(\"'\", '\"')\n",
    "        \n",
    "        # Load the string into a Python list\n",
    "        headers = json.loads(headers_str_json)\n",
    "        rows = []\n",
    "        # Extract all data rows\n",
    "        for tr in table.find_all(\"tr\")[1:]:  # skip header row\n",
    "            cells = tr.find_all(\"td\")\n",
    "            row = [cell.get_text(strip=True) for cell in cells]\n",
    "            #print(\"row \" + str(row))\n",
    "            #print(\"headers \" + str( headers))\n",
    "            #print(\"len(row) \" + str(len(row)) + \" \" + \"len(headers) \" + str(len(headers)))\n",
    "            if len(row) == len(headers):  # sanity check\n",
    "                #print(\"inside row\")\n",
    "                rows.append(row)\n",
    "\n",
    "        df = pd.DataFrame(rows, columns=headers)\n",
    "        df[\"State_Code\"] = state_code\n",
    "        all_data.append(df)\n",
    "        \n",
    "        time.sleep(2)  # polite scraping delay\n",
    "    except Exception as e:\n",
    "        print(f\"❌ Failed for State Code {state_code}: {e}\")\n",
    "        continue\n",
    "\n",
    "# Combine and save to CSV\n",
    "if all_data:\n",
    "    full_df = pd.concat(all_data, ignore_index=True)\n",
    "    full_df.to_csv(\"SECC_Asset_Ownership_District_Level.csv\", index=False)\n",
    "    print(\"✅ All SECC district data saved to 'SECC_Asset_Ownership_District_Level.csv'\")\n",
    "else:\n",
    "    print(\"❗ No data extracted. Please check the SECC site or script.\")\n"
   ]
  },
  {
   "cell_type": "code",
   "execution_count": null,
   "id": "ca831ed1-f701-4a79-9852-a018a99c5bc9",
   "metadata": {},
   "outputs": [],
   "source": []
  },
  {
   "cell_type": "code",
   "execution_count": null,
   "id": "3721ead7-3f70-4ba8-89a1-1e1d89c618ab",
   "metadata": {},
   "outputs": [],
   "source": []
  }
 ],
 "metadata": {
  "kernelspec": {
   "display_name": "Python 3 (ipykernel)",
   "language": "python",
   "name": "python3"
  },
  "language_info": {
   "codemirror_mode": {
    "name": "ipython",
    "version": 3
   },
   "file_extension": ".py",
   "mimetype": "text/x-python",
   "name": "python",
   "nbconvert_exporter": "python",
   "pygments_lexer": "ipython3",
   "version": "3.13.5"
  }
 },
 "nbformat": 4,
 "nbformat_minor": 5
}
